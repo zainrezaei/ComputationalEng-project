{
 "cells": [
  {
   "cell_type": "code",
   "execution_count": 1,
   "id": "bf7bbb48-1dba-4b54-a6ed-2262cc3dc057",
   "metadata": {},
   "outputs": [],
   "source": [
    "import damask\n",
    "import numpy as np\n",
    "import pandas as pd\n",
    "import matplotlib.pyplot as plt"
   ]
  },
  {
   "cell_type": "code",
   "execution_count": 2,
   "id": "64edcd53-0615-45bd-afa2-5d7322798896",
   "metadata": {},
   "outputs": [
    {
     "data": {
      "text/plain": [
       "\u001b[2mCreated by /projappl/project_2004956/damask-3.0.0-alpha7/grid_solver/bin/DAMASK_grid v3.0.0-alpha7\n",
       "        on 2023-09-29 13:22:24+0300\n",
       " executing \"/projappl/project_2004956/damask-3.0.0-alpha7/grid_solver/bin/DAMASK_grid --load tensionX.yaml --geom aluminum.vti\"\u001b[0m\n",
       "\n",
       "increment_0 (0.0 s)\n",
       "  phase\n",
       "    Aluminum\n",
       "      damage\n",
       "        f_phi / -: driving force\n",
       "      mechanical\n",
       "        F / 1: deformation gradient\n",
       "        F_e / 1: elastic deformation gradient\n",
       "        F_p / 1: plastic deformation gradient\n",
       "        L_p / 1/s: plastic velocity gradient\n",
       "        O / q_0 (q_1 q_2 q_3): crystal orientation as quaternion\n",
       "        P / Pa: first Piola-Kirchhoff stress\n",
       "        epsilon_V^0.0(F) / 1: strain tensor of F (deformation gradient)\n",
       "        epsilon_V^0.0(F_p) / 1: strain tensor of F_p (plastic deformation gradient)\n",
       "        rho_dip / 1/m²: dislocation dipole density\n",
       "        rho_mob / 1/m²: mobile dislocation density\n",
       "        sigma / Pa: Cauchy stress calculated from P (first Piola-Kirchhoff stress) and F (deformation gradient)\n",
       "  homogenization\n",
       "    SX\n",
       "      damage\n",
       "      mechanical\n",
       "\n",
       "increment_2\n",
       "  ...\n",
       "\n",
       "increment_4\n",
       "  ...\n",
       "\n",
       "increment_6\n",
       "  ...\n",
       "\n",
       "increment_8\n",
       "  ...\n",
       "\n",
       "increment_10\n",
       "  ...\n",
       "\n",
       "increment_12\n",
       "  ...\n",
       "\n",
       "increment_14\n",
       "  ...\n",
       "\n",
       "increment_16\n",
       "  ...\n",
       "\n",
       "increment_18\n",
       "  ...\n",
       "\n",
       "increment_20\n",
       "  ...\n",
       "\n",
       "increment_24\n",
       "  ...\n",
       "\n",
       "increment_28\n",
       "  ...\n",
       "\n",
       "increment_32\n",
       "  ...\n",
       "\n",
       "increment_36\n",
       "  ...\n",
       "\n",
       "increment_40\n",
       "  ...\n",
       "\n",
       "increment_44\n",
       "  ...\n",
       "\n",
       "increment_48\n",
       "  ...\n",
       "\n",
       "increment_52\n",
       "  ...\n",
       "\n",
       "increment_56\n",
       "  ...\n",
       "\n",
       "increment_60\n",
       "  ...\n",
       "\n",
       "increment_64\n",
       "  ...\n",
       "\n",
       "increment_68\n",
       "  ...\n",
       "\n",
       "increment_72\n",
       "  ...\n",
       "\n",
       "increment_76\n",
       "  ...\n",
       "\n",
       "increment_80\n",
       "  ...\n",
       "\n",
       "increment_84\n",
       "  ...\n",
       "\n",
       "increment_88\n",
       "  ...\n",
       "\n",
       "increment_92\n",
       "  ...\n",
       "\n",
       "increment_96\n",
       "  ...\n",
       "\n",
       "increment_100\n",
       "  ...\n",
       "\n",
       "increment_104\n",
       "  ...\n",
       "\n",
       "increment_108\n",
       "  ...\n",
       "\n",
       "increment_112\n",
       "  ...\n",
       "\n",
       "increment_116\n",
       "  ...\n",
       "\n",
       "increment_120\n",
       "  ...\n",
       "\n",
       "increment_124\n",
       "  ...\n",
       "\n",
       "increment_128\n",
       "  ...\n",
       "\n",
       "increment_132\n",
       "  ...\n",
       "\n",
       "increment_136\n",
       "  ...\n",
       "\n",
       "increment_140 (2020.0 s)\n",
       "  phase\n",
       "    Aluminum\n",
       "      damage\n",
       "        f_phi / -: driving force\n",
       "      mechanical\n",
       "        F / 1: deformation gradient\n",
       "        F_e / 1: elastic deformation gradient\n",
       "        F_p / 1: plastic deformation gradient\n",
       "        L_p / 1/s: plastic velocity gradient\n",
       "        O / q_0 (q_1 q_2 q_3): crystal orientation as quaternion\n",
       "        P / Pa: first Piola-Kirchhoff stress\n",
       "        epsilon_V^0.0(F) / 1: strain tensor of F (deformation gradient)\n",
       "        epsilon_V^0.0(F_p) / 1: strain tensor of F_p (plastic deformation gradient)\n",
       "        rho_dip / 1/m²: dislocation dipole density\n",
       "        rho_mob / 1/m²: mobile dislocation density\n",
       "        sigma / Pa: Cauchy stress calculated from P (first Piola-Kirchhoff stress) and F (deformation gradient)\n",
       "  homogenization\n",
       "    SX\n",
       "      damage\n",
       "      mechanical"
      ]
     },
     "execution_count": 2,
     "metadata": {},
     "output_type": "execute_result"
    }
   ],
   "source": [
    "result = damask.Result('aluminum_tensionX.hdf5')\n",
    "result"
   ]
  },
  {
   "cell_type": "code",
   "execution_count": 3,
   "id": "fd762dc0-d8c8-403d-8c9c-298db833398e",
   "metadata": {},
   "outputs": [
    {
     "name": "stderr",
     "output_type": "stream",
     "text": [
      " ██████████████████████████████████████████████████ 100% ETA 0:00:00\n"
     ]
    },
    {
     "data": {
      "text/plain": [
       "dict_keys(['increment_0', 'increment_2', 'increment_4', 'increment_6', 'increment_8', 'increment_10', 'increment_12', 'increment_14', 'increment_16', 'increment_18', 'increment_20', 'increment_24', 'increment_28', 'increment_32', 'increment_36', 'increment_40', 'increment_44', 'increment_48', 'increment_52', 'increment_56', 'increment_60', 'increment_64', 'increment_68', 'increment_72', 'increment_76', 'increment_80', 'increment_84', 'increment_88', 'increment_92', 'increment_96', 'increment_100', 'increment_104', 'increment_108', 'increment_112', 'increment_116', 'increment_120', 'increment_124', 'increment_128', 'increment_132', 'increment_136', 'increment_140'])"
      ]
     },
     "execution_count": 3,
     "metadata": {},
     "output_type": "execute_result"
    }
   ],
   "source": [
    "result.get('sigma').keys()"
   ]
  },
  {
   "cell_type": "code",
   "execution_count": 4,
   "id": "eb4fc5ea-d069-4441-91b9-ba988ffe3614",
   "metadata": {},
   "outputs": [
    {
     "name": "stderr",
     "output_type": "stream",
     "text": [
      " ██████████████████████████████████████████████████ 100% ETA 0:00:00\n"
     ]
    },
    {
     "data": {
      "text/plain": [
       "[-9.710390224432165e-13,\n",
       " 3.1495253529651794,\n",
       " 6.304507073587761,\n",
       " 9.454597451177142,\n",
       " 12.05780296013248,\n",
       " 13.27379374109082,\n",
       " 13.86403365736246,\n",
       " 14.2561763757354,\n",
       " 14.549367159438463,\n",
       " 14.78197813630604,\n",
       " 14.965507672376454,\n",
       " 15.724723005230011,\n",
       " 16.31353099099922,\n",
       " 16.85600807480334,\n",
       " 17.376001100801375,\n",
       " 17.87675973695738,\n",
       " 19.251643579488046,\n",
       " 20.471291840921122,\n",
       " 21.576496600296107,\n",
       " 22.582556212509164,\n",
       " 23.50587151658234,\n",
       " 24.360341356158113,\n",
       " 25.156362294294766,\n",
       " 25.90120415737623,\n",
       " 26.601078757988013,\n",
       " 27.26201164619061,\n",
       " 27.888683032465575,\n",
       " 28.484888344310516,\n",
       " 29.054189015950925,\n",
       " 29.59950469610096,\n",
       " 30.123016203043147,\n",
       " 30.625848473940795,\n",
       " 31.112493108821248,\n",
       " 31.583192799088366,\n",
       " 32.03856198986399,\n",
       " 32.47969071415384,\n",
       " 32.81286027901872,\n",
       " 33.135945430276834,\n",
       " 33.45408093271898,\n",
       " 33.76548676322017,\n",
       " 34.069647335793945]"
      ]
     },
     "execution_count": 4,
     "metadata": {},
     "output_type": "execute_result"
    }
   ],
   "source": [
    "sigma = [np.average(s) for s in result.get('sigma').values()]\n",
    "sigma_mpa = [s / 1e6 for s in sigma]\n",
    "sigma_mpa"
   ]
  },
  {
   "cell_type": "code",
   "execution_count": 5,
   "id": "22ba7f34-5b89-4f50-ad3a-a5deaf11cdac",
   "metadata": {},
   "outputs": [
    {
     "name": "stderr",
     "output_type": "stream",
     "text": [
      " ██████████████████████████████████████████████████ 100% ETA 0:00:00\n"
     ]
    },
    {
     "data": {
      "text/plain": [
       "[0.0,\n",
       " 1.4888755317085217e-11,\n",
       " 2.974006829218931e-11,\n",
       " 4.4505590100619126e-11,\n",
       " 5.6672356752937423e-11,\n",
       " 6.234739982405129e-11,\n",
       " 6.504298694689493e-11,\n",
       " 6.679415104131092e-11,\n",
       " 6.809505169670694e-11,\n",
       " 6.913168725091138e-11,\n",
       " 6.995539001818445e-11,\n",
       " 7.348602495795583e-11,\n",
       " 7.624421058116777e-11,\n",
       " 7.87776166176003e-11,\n",
       " 8.119584453107202e-11,\n",
       " 8.35181226053613e-11,\n",
       " 9.008816554902875e-11,\n",
       " 9.577334029025306e-11,\n",
       " 1.0096938189137087e-10,\n",
       " 1.0576415368047976e-10,\n",
       " 1.1024582588980465e-10,\n",
       " 1.1448477593344133e-10,\n",
       " 1.1854084130770007e-10,\n",
       " 1.2246282788161136e-10,\n",
       " 1.2629180405098635e-10,\n",
       " 1.300613477640791e-10,\n",
       " 1.3378859600636743e-10,\n",
       " 1.3748202406305053e-10,\n",
       " 1.4115060970191642e-10,\n",
       " 1.4479882052317866e-10,\n",
       " 1.4842142677676995e-10,\n",
       " 1.5201223126044495e-10,\n",
       " 1.5559135500967976e-10,\n",
       " 1.5915879993784565e-10,\n",
       " 1.6271554141380663e-10,\n",
       " 1.6626193844268455e-10,\n",
       " 1.6893181467613483e-10,\n",
       " 1.7165426932457492e-10,\n",
       " 1.7438489144696884e-10,\n",
       " 1.7712246243486518e-10,\n",
       " 1.7986898554435076e-10]"
      ]
     },
     "execution_count": 5,
     "metadata": {},
     "output_type": "execute_result"
    }
   ],
   "source": [
    "epsilon = [np.average(e) for e in result.get('epsilon_V^0.0(F)').values()]\n",
    "epsilon_mpa = [e / 1e6 for e in epsilon]\n",
    "epsilon_mpa"
   ]
  },
  {
   "cell_type": "code",
   "execution_count": 6,
   "id": "94709289-d2c5-4613-8bce-326bd5914a0e",
   "metadata": {},
   "outputs": [
    {
     "data": {
      "text/plain": [
       "Text(0.5, 1.0, 'Stress-Strain Curve')"
      ]
     },
     "execution_count": 6,
     "metadata": {},
     "output_type": "execute_result"
    },
    {
     "data": {
      "image/png": "[encoded data removed]",
      "text/plain": [
       "<Figure size 640x480 with 1 Axes>"
      ]
     },
     "metadata": {},
     "output_type": "display_data"
    }
   ],
   "source": [
    "\n",
    "# Stress_Strain curve\n",
    "plt.plot(epsilon_mpa, sigma_mpa)\n",
    "plt.xlabel('Strain (ε)')  \n",
    "plt.ylabel('Stress (Mpa)')\n",
    "plt.title('Stress-Strain Curve')\n"
   ]
  },
  {
   "cell_type": "code",
   "execution_count": 7,
   "id": "395e3aed-8334-4349-85c9-7b042bf11088",
   "metadata": {},
   "outputs": [
    {
     "data": {
      "text/plain": [
       "\u001b[2mCreated by /projappl/project_2004956/damask-3.0.0-alpha7/grid_solver/bin/DAMASK_grid v3.0.0-alpha7\n",
       "        on 2023-09-29 13:22:24+0300\n",
       " executing \"/projappl/project_2004956/damask-3.0.0-alpha7/grid_solver/bin/DAMASK_grid --load tensionX.yaml --geom aluminum.vti\"\u001b[0m\n",
       "\n",
       "increment_140 (2020.0 s)\n",
       "  phase\n",
       "    Aluminum\n",
       "      damage\n",
       "        f_phi / -: driving force\n",
       "      mechanical\n",
       "        F / 1: deformation gradient\n",
       "        F_e / 1: elastic deformation gradient\n",
       "        F_p / 1: plastic deformation gradient\n",
       "        L_p / 1/s: plastic velocity gradient\n",
       "        O / q_0 (q_1 q_2 q_3): crystal orientation as quaternion\n",
       "        P / Pa: first Piola-Kirchhoff stress\n",
       "        epsilon_V^0.0(F) / 1: strain tensor of F (deformation gradient)\n",
       "        epsilon_V^0.0(F_p) / 1: strain tensor of F_p (plastic deformation gradient)\n",
       "        rho_dip / 1/m²: dislocation dipole density\n",
       "        rho_mob / 1/m²: mobile dislocation density\n",
       "        sigma / Pa: Cauchy stress calculated from P (first Piola-Kirchhoff stress) and F (deformation gradient)\n",
       "  homogenization\n",
       "    SX\n",
       "      damage\n",
       "      mechanical"
      ]
     },
     "execution_count": 7,
     "metadata": {},
     "output_type": "execute_result"
    }
   ],
   "source": [
    "result = result.view(increments=-1)          \n",
    "result"
   ]
  },
  {
   "cell_type": "code",
   "execution_count": 8,
   "id": "9b7be644-96f2-41d3-adb8-cb3373621e93",
   "metadata": {},
   "outputs": [
    {
     "data": {
      "text/plain": [
       "\u001b[2mCreated by /projappl/project_2004956/damask-3.0.0-alpha7/grid_solver/bin/DAMASK_grid v3.0.0-alpha7\n",
       "        on 2023-09-29 13:22:24+0300\n",
       " executing \"/projappl/project_2004956/damask-3.0.0-alpha7/grid_solver/bin/DAMASK_grid --load tensionX.yaml --geom aluminum.vti\"\u001b[0m\n",
       "\n",
       "increment_140 (2020.0 s)\n",
       "  phase\n",
       "    Aluminum\n",
       "      damage\n",
       "        f_phi / -: driving force\n",
       "      mechanical\n",
       "        F / 1: deformation gradient\n",
       "        F_e / 1: elastic deformation gradient\n",
       "        F_p / 1: plastic deformation gradient\n",
       "        L_p / 1/s: plastic velocity gradient\n",
       "        O / q_0 (q_1 q_2 q_3): crystal orientation as quaternion\n",
       "        P / Pa: first Piola-Kirchhoff stress\n",
       "        epsilon_V^0.0(F) / 1: strain tensor of F (deformation gradient)\n",
       "        epsilon_V^0.0(F_p) / 1: strain tensor of F_p (plastic deformation gradient)\n",
       "        rho_dip / 1/m²: dislocation dipole density\n",
       "        rho_mob / 1/m²: mobile dislocation density\n",
       "        sigma / Pa: Cauchy stress calculated from P (first Piola-Kirchhoff stress) and F (deformation gradient)\n",
       "  homogenization"
      ]
     },
     "execution_count": 8,
     "metadata": {},
     "output_type": "execute_result"
    }
   ],
   "source": [
    "result = result.view(homogenizations=False)\n",
    "result"
   ]
  },
  {
   "cell_type": "code",
   "execution_count": 9,
   "id": "da4e1091-3ea6-4a12-a3da-66b9850c6e24",
   "metadata": {},
   "outputs": [
    {
     "data": {
      "text/html": [
       "<div>\n",
       "<style scoped>\n",
       "    .dataframe tbody tr th:only-of-type {\n",
       "        vertical-align: middle;\n",
       "    }\n",
       "\n",
       "    .dataframe tbody tr th {\n",
       "        vertical-align: top;\n",
       "    }\n",
       "\n",
       "    .dataframe thead th {\n",
       "        text-align: right;\n",
       "    }\n",
       "</style>\n",
       "<table border=\"1\" class=\"dataframe\">\n",
       "  <thead>\n",
       "    <tr style=\"text-align: right;\">\n",
       "      <th></th>\n",
       "      <th>Piola-Kirchhoff stress</th>\n",
       "      <th>Deformation Gradient</th>\n",
       "    </tr>\n",
       "  </thead>\n",
       "  <tbody>\n",
       "    <tr>\n",
       "      <th>0</th>\n",
       "      <td>0.947283</td>\n",
       "      <td>-4.461537e+06</td>\n",
       "    </tr>\n",
       "    <tr>\n",
       "      <th>1</th>\n",
       "      <td>0.899502</td>\n",
       "      <td>-1.448509e+07</td>\n",
       "    </tr>\n",
       "    <tr>\n",
       "      <th>2</th>\n",
       "      <td>0.959015</td>\n",
       "      <td>5.496372e+07</td>\n",
       "    </tr>\n",
       "    <tr>\n",
       "      <th>3</th>\n",
       "      <td>0.956636</td>\n",
       "      <td>-4.427921e+07</td>\n",
       "    </tr>\n",
       "    <tr>\n",
       "      <th>4</th>\n",
       "      <td>0.920360</td>\n",
       "      <td>-4.693959e+07</td>\n",
       "    </tr>\n",
       "    <tr>\n",
       "      <th>...</th>\n",
       "      <td>...</td>\n",
       "      <td>...</td>\n",
       "    </tr>\n",
       "    <tr>\n",
       "      <th>63995</th>\n",
       "      <td>0.957944</td>\n",
       "      <td>-2.275580e+07</td>\n",
       "    </tr>\n",
       "    <tr>\n",
       "      <th>63996</th>\n",
       "      <td>0.978464</td>\n",
       "      <td>-1.327273e+07</td>\n",
       "    </tr>\n",
       "    <tr>\n",
       "      <th>63997</th>\n",
       "      <td>0.941150</td>\n",
       "      <td>-4.032506e+06</td>\n",
       "    </tr>\n",
       "    <tr>\n",
       "      <th>63998</th>\n",
       "      <td>0.907873</td>\n",
       "      <td>-8.135146e+07</td>\n",
       "    </tr>\n",
       "    <tr>\n",
       "      <th>63999</th>\n",
       "      <td>0.897521</td>\n",
       "      <td>2.474381e+07</td>\n",
       "    </tr>\n",
       "  </tbody>\n",
       "</table>\n",
       "<p>64000 rows × 2 columns</p>\n",
       "</div>"
      ],
      "text/plain": [
       "       Piola-Kirchhoff stress  Deformation Gradient\n",
       "0                    0.947283         -4.461537e+06\n",
       "1                    0.899502         -1.448509e+07\n",
       "2                    0.959015          5.496372e+07\n",
       "3                    0.956636         -4.427921e+07\n",
       "4                    0.920360         -4.693959e+07\n",
       "...                       ...                   ...\n",
       "63995                0.957944         -2.275580e+07\n",
       "63996                0.978464         -1.327273e+07\n",
       "63997                0.941150         -4.032506e+06\n",
       "63998                0.907873         -8.135146e+07\n",
       "63999                0.897521          2.474381e+07\n",
       "\n",
       "[64000 rows x 2 columns]"
      ]
     },
     "execution_count": 9,
     "metadata": {},
     "output_type": "execute_result"
    }
   ],
   "source": [
    "data = pd.DataFrame({'Piola-Kirchhoff stress': result.get('F')[:, 0, 0],\n",
    "        'Deformation Gradient': result.get('P')[:, 0, 0]})\n",
    "\n",
    "data\n"
   ]
  },
  {
   "cell_type": "code",
   "execution_count": 11,
   "id": "eb9539c4-48b8-42f5-930d-6de94f681a95",
   "metadata": {},
   "outputs": [
    {
     "data": {
      "text/plain": [
       "Text(0.5, 1.0, 'Hexbin Plot of Stress vs. Deformation Gradient')"
      ]
     },
     "execution_count": 11,
     "metadata": {},
     "output_type": "execute_result"
    },
    {
     "data": {
      "image/png": "[encoded data removed]",
      "text/plain": [
       "<Figure size 640x480 with 2 Axes>"
      ]
     },
     "metadata": {},
     "output_type": "display_data"
    }
   ],
   "source": [
    "from damask import Colormap\n",
    "data.plot.hexbin(x='Deformation Gradient',y='Piola-Kirchhoff stress',gridsize=20,cmap=Colormap.from_predefined('strain'))\n",
    "plt.xlabel('Deformation Gradient (F)')\n",
    "plt.ylabel('Piola-Kirchhoff Stress (Pa)')\n",
    "plt.title('Hexbin Plot of Stress vs. Deformation Gradient')"
   ]
  },
  {
   "cell_type": "code",
   "execution_count": null,
   "id": "9a4b607f-585f-4829-8f73-934b69603cbc",
   "metadata": {},
   "outputs": [],
   "source": []
  }
 ],
 "metadata": {
  "kernelspec": {
   "display_name": "Python 3 (ipykernel)",
   "language": "python",
   "name": "python3"
  },
  "language_info": {
   "codemirror_mode": {
    "name": "ipython",
    "version": 3
   },
   "file_extension": ".py",
   "mimetype": "text/x-python",
   "name": "python",
   "nbconvert_exporter": "python",
   "pygments_lexer": "ipython3",
   "version": "3.10.9"
  }
 },
 "nbformat": 4,
 "nbformat_minor": 5
}
